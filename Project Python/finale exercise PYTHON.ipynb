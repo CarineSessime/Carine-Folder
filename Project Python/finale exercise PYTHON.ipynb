{
 "cells": [
  {
   "cell_type": "code",
   "execution_count": 14,
   "id": "61449ccc-157b-49d5-b557-f25759e0146d",
   "metadata": {
    "tags": []
   },
   "outputs": [],
   "source": [
    "import pandas as pd\n",
    "covid_data = pd.read_csv(\"owid-covid-data.csv\")"
   ]
  },
  {
   "cell_type": "code",
   "execution_count": 15,
   "id": "4dc339b9-e896-443e-9b86-d2bcb6879bb9",
   "metadata": {
    "tags": []
   },
   "outputs": [
    {
     "name": "stdout",
     "output_type": "stream",
     "text": [
      "Dimensioni del dataset: (346549, 67)\n",
      "Totale colonuns dataset: ['iso_code', 'continent', 'location', 'date', 'total_cases', 'new_cases', 'new_cases_smoothed', 'total_deaths', 'new_deaths', 'new_deaths_smoothed', 'total_cases_per_million', 'new_cases_per_million', 'new_cases_smoothed_per_million', 'total_deaths_per_million', 'new_deaths_per_million', 'new_deaths_smoothed_per_million', 'reproduction_rate', 'icu_patients', 'icu_patients_per_million', 'hosp_patients', 'hosp_patients_per_million', 'weekly_icu_admissions', 'weekly_icu_admissions_per_million', 'weekly_hosp_admissions', 'weekly_hosp_admissions_per_million', 'total_tests', 'new_tests', 'total_tests_per_thousand', 'new_tests_per_thousand', 'new_tests_smoothed', 'new_tests_smoothed_per_thousand', 'positive_rate', 'tests_per_case', 'tests_units', 'total_vaccinations', 'people_vaccinated', 'people_fully_vaccinated', 'total_boosters', 'new_vaccinations', 'new_vaccinations_smoothed', 'total_vaccinations_per_hundred', 'people_vaccinated_per_hundred', 'people_fully_vaccinated_per_hundred', 'total_boosters_per_hundred', 'new_vaccinations_smoothed_per_million', 'new_people_vaccinated_smoothed', 'new_people_vaccinated_smoothed_per_hundred', 'stringency_index', 'population_density', 'median_age', 'aged_65_older', 'aged_70_older', 'gdp_per_capita', 'extreme_poverty', 'cardiovasc_death_rate', 'diabetes_prevalence', 'female_smokers', 'male_smokers', 'handwashing_facilities', 'hospital_beds_per_thousand', 'life_expectancy', 'human_development_index', 'population', 'excess_mortality_cumulative_absolute', 'excess_mortality_cumulative', 'excess_mortality', 'excess_mortality_cumulative_per_million']\n"
     ]
    },
    {
     "data": {
      "text/html": [
       "<div>\n",
       "<style scoped>\n",
       "    .dataframe tbody tr th:only-of-type {\n",
       "        vertical-align: middle;\n",
       "    }\n",
       "\n",
       "    .dataframe tbody tr th {\n",
       "        vertical-align: top;\n",
       "    }\n",
       "\n",
       "    .dataframe thead th {\n",
       "        text-align: right;\n",
       "    }\n",
       "</style>\n",
       "<table border=\"1\" class=\"dataframe\">\n",
       "  <thead>\n",
       "    <tr style=\"text-align: right;\">\n",
       "      <th></th>\n",
       "      <th>total_cases</th>\n",
       "      <th>new_cases</th>\n",
       "      <th>new_cases_smoothed</th>\n",
       "      <th>total_deaths</th>\n",
       "      <th>new_deaths</th>\n",
       "      <th>new_deaths_smoothed</th>\n",
       "      <th>total_cases_per_million</th>\n",
       "      <th>new_cases_per_million</th>\n",
       "      <th>new_cases_smoothed_per_million</th>\n",
       "      <th>total_deaths_per_million</th>\n",
       "      <th>...</th>\n",
       "      <th>male_smokers</th>\n",
       "      <th>handwashing_facilities</th>\n",
       "      <th>hospital_beds_per_thousand</th>\n",
       "      <th>life_expectancy</th>\n",
       "      <th>human_development_index</th>\n",
       "      <th>population</th>\n",
       "      <th>excess_mortality_cumulative_absolute</th>\n",
       "      <th>excess_mortality_cumulative</th>\n",
       "      <th>excess_mortality</th>\n",
       "      <th>excess_mortality_cumulative_per_million</th>\n",
       "    </tr>\n",
       "  </thead>\n",
       "  <tbody>\n",
       "    <tr>\n",
       "      <th>count</th>\n",
       "      <td>3.086720e+05</td>\n",
       "      <td>3.370280e+05</td>\n",
       "      <td>3.357690e+05</td>\n",
       "      <td>2.871690e+05</td>\n",
       "      <td>337072.000000</td>\n",
       "      <td>335842.000000</td>\n",
       "      <td>308672.000000</td>\n",
       "      <td>337028.000000</td>\n",
       "      <td>335769.000000</td>\n",
       "      <td>287169.000000</td>\n",
       "      <td>...</td>\n",
       "      <td>198822.00000</td>\n",
       "      <td>131623.00000</td>\n",
       "      <td>237210.000000</td>\n",
       "      <td>318812.000000</td>\n",
       "      <td>260455.000000</td>\n",
       "      <td>3.465490e+05</td>\n",
       "      <td>1.195300e+04</td>\n",
       "      <td>11953.000000</td>\n",
       "      <td>11953.000000</td>\n",
       "      <td>11953.000000</td>\n",
       "    </tr>\n",
       "    <tr>\n",
       "      <th>mean</th>\n",
       "      <td>6.609069e+06</td>\n",
       "      <td>9.695906e+03</td>\n",
       "      <td>9.732069e+03</td>\n",
       "      <td>8.559525e+04</td>\n",
       "      <td>86.392889</td>\n",
       "      <td>86.704207</td>\n",
       "      <td>100634.394008</td>\n",
       "      <td>146.569024</td>\n",
       "      <td>147.113196</td>\n",
       "      <td>867.354640</td>\n",
       "      <td>...</td>\n",
       "      <td>32.90966</td>\n",
       "      <td>50.78956</td>\n",
       "      <td>3.097086</td>\n",
       "      <td>73.714114</td>\n",
       "      <td>0.722457</td>\n",
       "      <td>1.282615e+08</td>\n",
       "      <td>5.113535e+04</td>\n",
       "      <td>9.739424</td>\n",
       "      <td>11.461129</td>\n",
       "      <td>1646.844959</td>\n",
       "    </tr>\n",
       "    <tr>\n",
       "      <th>std</th>\n",
       "      <td>4.032547e+07</td>\n",
       "      <td>1.108324e+05</td>\n",
       "      <td>9.495414e+04</td>\n",
       "      <td>4.380493e+05</td>\n",
       "      <td>616.815791</td>\n",
       "      <td>561.926045</td>\n",
       "      <td>150292.226515</td>\n",
       "      <td>1169.506821</td>\n",
       "      <td>602.840371</td>\n",
       "      <td>1096.750172</td>\n",
       "      <td>...</td>\n",
       "      <td>13.57433</td>\n",
       "      <td>31.95676</td>\n",
       "      <td>2.548357</td>\n",
       "      <td>7.395649</td>\n",
       "      <td>0.148980</td>\n",
       "      <td>6.601040e+08</td>\n",
       "      <td>1.442796e+05</td>\n",
       "      <td>12.380781</td>\n",
       "      <td>25.354695</td>\n",
       "      <td>1929.159161</td>\n",
       "    </tr>\n",
       "    <tr>\n",
       "      <th>min</th>\n",
       "      <td>1.000000e+00</td>\n",
       "      <td>0.000000e+00</td>\n",
       "      <td>0.000000e+00</td>\n",
       "      <td>1.000000e+00</td>\n",
       "      <td>0.000000</td>\n",
       "      <td>0.000000</td>\n",
       "      <td>0.000000</td>\n",
       "      <td>0.000000</td>\n",
       "      <td>0.000000</td>\n",
       "      <td>0.000000</td>\n",
       "      <td>...</td>\n",
       "      <td>7.70000</td>\n",
       "      <td>1.18800</td>\n",
       "      <td>0.100000</td>\n",
       "      <td>53.280000</td>\n",
       "      <td>0.394000</td>\n",
       "      <td>4.700000e+01</td>\n",
       "      <td>-3.772610e+04</td>\n",
       "      <td>-44.230000</td>\n",
       "      <td>-95.920000</td>\n",
       "      <td>-2752.924800</td>\n",
       "    </tr>\n",
       "    <tr>\n",
       "      <th>25%</th>\n",
       "      <td>7.988750e+03</td>\n",
       "      <td>0.000000e+00</td>\n",
       "      <td>2.860000e-01</td>\n",
       "      <td>1.250000e+02</td>\n",
       "      <td>0.000000</td>\n",
       "      <td>0.000000</td>\n",
       "      <td>2573.783500</td>\n",
       "      <td>0.000000</td>\n",
       "      <td>0.056000</td>\n",
       "      <td>59.672000</td>\n",
       "      <td>...</td>\n",
       "      <td>22.60000</td>\n",
       "      <td>20.85900</td>\n",
       "      <td>1.300000</td>\n",
       "      <td>69.590000</td>\n",
       "      <td>0.602000</td>\n",
       "      <td>4.490020e+05</td>\n",
       "      <td>1.066000e+02</td>\n",
       "      <td>1.320000</td>\n",
       "      <td>-1.620000</td>\n",
       "      <td>65.345720</td>\n",
       "    </tr>\n",
       "    <tr>\n",
       "      <th>50%</th>\n",
       "      <td>6.904700e+04</td>\n",
       "      <td>2.000000e+00</td>\n",
       "      <td>2.585700e+01</td>\n",
       "      <td>1.313000e+03</td>\n",
       "      <td>0.000000</td>\n",
       "      <td>0.143000</td>\n",
       "      <td>27720.494000</td>\n",
       "      <td>0.169000</td>\n",
       "      <td>6.815000</td>\n",
       "      <td>374.322000</td>\n",
       "      <td>...</td>\n",
       "      <td>33.10000</td>\n",
       "      <td>49.83900</td>\n",
       "      <td>2.500000</td>\n",
       "      <td>75.050000</td>\n",
       "      <td>0.740000</td>\n",
       "      <td>5.882259e+06</td>\n",
       "      <td>5.736601e+03</td>\n",
       "      <td>8.070000</td>\n",
       "      <td>5.770000</td>\n",
       "      <td>1072.472700</td>\n",
       "    </tr>\n",
       "    <tr>\n",
       "      <th>75%</th>\n",
       "      <td>7.345502e+05</td>\n",
       "      <td>2.730000e+02</td>\n",
       "      <td>5.107140e+02</td>\n",
       "      <td>1.181800e+04</td>\n",
       "      <td>3.000000</td>\n",
       "      <td>5.286000</td>\n",
       "      <td>131483.602000</td>\n",
       "      <td>36.566000</td>\n",
       "      <td>84.076000</td>\n",
       "      <td>1356.019000</td>\n",
       "      <td>...</td>\n",
       "      <td>41.30000</td>\n",
       "      <td>82.87150</td>\n",
       "      <td>4.200000</td>\n",
       "      <td>79.460000</td>\n",
       "      <td>0.829000</td>\n",
       "      <td>2.830170e+07</td>\n",
       "      <td>3.668959e+04</td>\n",
       "      <td>15.470000</td>\n",
       "      <td>16.520000</td>\n",
       "      <td>2704.933800</td>\n",
       "    </tr>\n",
       "    <tr>\n",
       "      <th>max</th>\n",
       "      <td>7.711505e+08</td>\n",
       "      <td>8.401961e+06</td>\n",
       "      <td>6.402036e+06</td>\n",
       "      <td>6.960770e+06</td>\n",
       "      <td>27939.000000</td>\n",
       "      <td>14821.857000</td>\n",
       "      <td>737554.506000</td>\n",
       "      <td>228872.025000</td>\n",
       "      <td>37241.781000</td>\n",
       "      <td>6511.209000</td>\n",
       "      <td>...</td>\n",
       "      <td>78.10000</td>\n",
       "      <td>100.00000</td>\n",
       "      <td>13.800000</td>\n",
       "      <td>86.750000</td>\n",
       "      <td>0.957000</td>\n",
       "      <td>7.975105e+09</td>\n",
       "      <td>1.289776e+06</td>\n",
       "      <td>76.550000</td>\n",
       "      <td>377.630000</td>\n",
       "      <td>10292.916000</td>\n",
       "    </tr>\n",
       "  </tbody>\n",
       "</table>\n",
       "<p>8 rows × 62 columns</p>\n",
       "</div>"
      ],
      "text/plain": [
       "        total_cases     new_cases  new_cases_smoothed  total_deaths  \\\n",
       "count  3.086720e+05  3.370280e+05        3.357690e+05  2.871690e+05   \n",
       "mean   6.609069e+06  9.695906e+03        9.732069e+03  8.559525e+04   \n",
       "std    4.032547e+07  1.108324e+05        9.495414e+04  4.380493e+05   \n",
       "min    1.000000e+00  0.000000e+00        0.000000e+00  1.000000e+00   \n",
       "25%    7.988750e+03  0.000000e+00        2.860000e-01  1.250000e+02   \n",
       "50%    6.904700e+04  2.000000e+00        2.585700e+01  1.313000e+03   \n",
       "75%    7.345502e+05  2.730000e+02        5.107140e+02  1.181800e+04   \n",
       "max    7.711505e+08  8.401961e+06        6.402036e+06  6.960770e+06   \n",
       "\n",
       "          new_deaths  new_deaths_smoothed  total_cases_per_million  \\\n",
       "count  337072.000000        335842.000000            308672.000000   \n",
       "mean       86.392889            86.704207            100634.394008   \n",
       "std       616.815791           561.926045            150292.226515   \n",
       "min         0.000000             0.000000                 0.000000   \n",
       "25%         0.000000             0.000000              2573.783500   \n",
       "50%         0.000000             0.143000             27720.494000   \n",
       "75%         3.000000             5.286000            131483.602000   \n",
       "max     27939.000000         14821.857000            737554.506000   \n",
       "\n",
       "       new_cases_per_million  new_cases_smoothed_per_million  \\\n",
       "count          337028.000000                   335769.000000   \n",
       "mean              146.569024                      147.113196   \n",
       "std              1169.506821                      602.840371   \n",
       "min                 0.000000                        0.000000   \n",
       "25%                 0.000000                        0.056000   \n",
       "50%                 0.169000                        6.815000   \n",
       "75%                36.566000                       84.076000   \n",
       "max            228872.025000                    37241.781000   \n",
       "\n",
       "       total_deaths_per_million  ...  male_smokers  handwashing_facilities  \\\n",
       "count             287169.000000  ...  198822.00000            131623.00000   \n",
       "mean                 867.354640  ...      32.90966                50.78956   \n",
       "std                 1096.750172  ...      13.57433                31.95676   \n",
       "min                    0.000000  ...       7.70000                 1.18800   \n",
       "25%                   59.672000  ...      22.60000                20.85900   \n",
       "50%                  374.322000  ...      33.10000                49.83900   \n",
       "75%                 1356.019000  ...      41.30000                82.87150   \n",
       "max                 6511.209000  ...      78.10000               100.00000   \n",
       "\n",
       "       hospital_beds_per_thousand  life_expectancy  human_development_index  \\\n",
       "count               237210.000000    318812.000000            260455.000000   \n",
       "mean                     3.097086        73.714114                 0.722457   \n",
       "std                      2.548357         7.395649                 0.148980   \n",
       "min                      0.100000        53.280000                 0.394000   \n",
       "25%                      1.300000        69.590000                 0.602000   \n",
       "50%                      2.500000        75.050000                 0.740000   \n",
       "75%                      4.200000        79.460000                 0.829000   \n",
       "max                     13.800000        86.750000                 0.957000   \n",
       "\n",
       "         population  excess_mortality_cumulative_absolute  \\\n",
       "count  3.465490e+05                          1.195300e+04   \n",
       "mean   1.282615e+08                          5.113535e+04   \n",
       "std    6.601040e+08                          1.442796e+05   \n",
       "min    4.700000e+01                         -3.772610e+04   \n",
       "25%    4.490020e+05                          1.066000e+02   \n",
       "50%    5.882259e+06                          5.736601e+03   \n",
       "75%    2.830170e+07                          3.668959e+04   \n",
       "max    7.975105e+09                          1.289776e+06   \n",
       "\n",
       "       excess_mortality_cumulative  excess_mortality  \\\n",
       "count                 11953.000000      11953.000000   \n",
       "mean                      9.739424         11.461129   \n",
       "std                      12.380781         25.354695   \n",
       "min                     -44.230000        -95.920000   \n",
       "25%                       1.320000         -1.620000   \n",
       "50%                       8.070000          5.770000   \n",
       "75%                      15.470000         16.520000   \n",
       "max                      76.550000        377.630000   \n",
       "\n",
       "       excess_mortality_cumulative_per_million  \n",
       "count                             11953.000000  \n",
       "mean                               1646.844959  \n",
       "std                                1929.159161  \n",
       "min                               -2752.924800  \n",
       "25%                                  65.345720  \n",
       "50%                                1072.472700  \n",
       "75%                                2704.933800  \n",
       "max                               10292.916000  \n",
       "\n",
       "[8 rows x 62 columns]"
      ]
     },
     "execution_count": 15,
     "metadata": {},
     "output_type": "execute_result"
    }
   ],
   "source": [
    "print(\"Dimensioni del dataset:\", covid_data.shape)\n",
    "print(\"Totale colonuns dataset:\", covid_data.columns.tolist())\n",
    "covid_data.describe()"
   ]
  },
  {
   "cell_type": "code",
   "execution_count": 16,
   "id": "6ed4a2fb-7e71-4afe-8444-21a916da270c",
   "metadata": {
    "tags": []
   },
   "outputs": [],
   "source": [
    "covid_data = covid_data.rename(index={\"South America \": \"SA\", \"North America\": \"NAM\"})\n"
   ]
  },
  {
   "cell_type": "code",
   "execution_count": 17,
   "id": "88948e63-8807-4b9a-9e45-9a071f80b303",
   "metadata": {
    "tags": []
   },
   "outputs": [
    {
     "name": "stdout",
     "output_type": "stream",
     "text": [
      "continent\n",
      "Africa           1.064950e+10\n",
      "Asia             1.611910e+11\n",
      "Europe           1.602939e+11\n",
      "North America    8.945082e+10\n",
      "Oceania          7.121352e+09\n",
      "South America    5.274068e+10\n",
      "Name: total_cases, dtype: float64\n"
     ]
    }
   ],
   "source": [
    "continent_cases =covid_data [covid_data['continent'].notna()].groupby('continent')['total_cases'].sum()\n",
    "print(continent_cases)"
   ]
  },
  {
   "cell_type": "code",
   "execution_count": 18,
   "id": "1906c386-fce8-4b01-a547-87a4849c23a6",
   "metadata": {
    "tags": []
   },
   "outputs": [
    {
     "name": "stdout",
     "output_type": "stream",
     "text": [
      "{'Europe': {'min': 1.0, 'max': 38997490.0, 'mean': 2387848.1516185254, 'percentage_of_world': 7.8574084525375305}, 'SA': {'min': nan, 'max': nan, 'mean': nan, 'percentage_of_world': 0.0}}\n"
     ]
    }
   ],
   "source": [
    "def compare_continents(covid_data, Europe, SA):\n",
    "    continents = ['Europe', 'SA']\n",
    "    comparison = {}\n",
    "    for continent in continents:\n",
    "        continent_data = covid_data[covid_data['continent'] == continent]\n",
    "        total_cases_world = covid_data['total_cases'].sum()\n",
    "        comparison[continent] = {\n",
    "            'min': continent_data['total_cases'].min(),\n",
    "            'max': continent_data['total_cases'].max(),\n",
    "            'mean': continent_data['total_cases'].mean(),\n",
    "            'percentage_of_world': (continent_data['total_cases'].sum() / total_cases_world) * 100\n",
    "        }\n",
    "    return comparison\n",
    "\n",
    "comparison_result = compare_continents(covid_data, 'Europe', 'SA')\n",
    "print(comparison_result)"
   ]
  },
  {
   "cell_type": "code",
   "execution_count": 19,
   "id": "189454c5-32c5-494b-a916-3d2e9fc6895c",
   "metadata": {
    "tags": []
   },
   "outputs": [
    {
     "name": "stdout",
     "output_type": "stream",
     "text": [
      "{'Europe': {'min': 1.0, 'max': 38997490.0, 'mean': 2387848.1516185254, 'percentage_of_world': 7.8574084525375305}, 'Asia': {'min': 1.0, 'max': 99312876.0, 'mean': 2747465.0329986876, 'percentage_of_world': 7.901386501202136}}\n"
     ]
    }
   ],
   "source": [
    "def compare_continents(covid_data, Europe, Asia):\n",
    "    continents = ['Europe', 'Asia']\n",
    "    comparison = {}\n",
    "    for continent in continents:\n",
    "        continent_data = covid_data[covid_data['continent'] == continent]\n",
    "        total_cases_world = covid_data['total_cases'].sum()\n",
    "        comparison[continent] = {\n",
    "            'min': continent_data['total_cases'].min(),\n",
    "            'max': continent_data['total_cases'].max(),\n",
    "            'mean': continent_data['total_cases'].mean(),\n",
    "            'percentage_of_world': (continent_data['total_cases'].sum() / total_cases_world) * 100\n",
    "        }\n",
    "    return comparison\n",
    "\n",
    "comparison_result = compare_continents(covid_data, 'Europe', 'Asia')\n",
    "print(comparison_result)"
   ]
  },
  {
   "cell_type": "code",
   "execution_count": 20,
   "id": "2d37d4b8-a9ee-456c-a73d-573169590015",
   "metadata": {
    "tags": []
   },
   "outputs": [
    {
     "name": "stdout",
     "output_type": "stream",
     "text": [
      "{'Europe': {'min': 1.0, 'max': 38997490.0, 'mean': 2387848.1516185254, 'percentage_of_world': 7.8574084525375305}, 'Oceania': {'min': 1.0, 'max': 11608166.0, 'mean': 321970.87394882, 'percentage_of_world': 0.3490799351105749}}\n"
     ]
    }
   ],
   "source": [
    "def compare_continents(covid_data, Europe, Oceania):\n",
    "    continents = ['Europe', 'Oceania']\n",
    "    comparison = {}\n",
    "    for continent in continents:\n",
    "        continent_data = covid_data[covid_data['continent'] == continent]\n",
    "        total_cases_world = covid_data['total_cases'].sum()\n",
    "        comparison[continent] = {\n",
    "            'min': continent_data['total_cases'].min(),\n",
    "            'max': continent_data['total_cases'].max(),\n",
    "            'mean': continent_data['total_cases'].mean(),\n",
    "            'percentage_of_world': (continent_data['total_cases'].sum() / total_cases_world) * 100\n",
    "        }\n",
    "    return comparison\n",
    "\n",
    "comparison_result = compare_continents(covid_data, 'Europe', 'Oceania')\n",
    "print(comparison_result)"
   ]
  },
  {
   "cell_type": "code",
   "execution_count": 21,
   "id": "0dfdd883-b1ec-44af-a169-7436feca9e13",
   "metadata": {
    "tags": []
   },
   "outputs": [
    {
     "name": "stdout",
     "output_type": "stream",
     "text": [
      "{'Europa': {'min': nan, 'max': nan, 'mean': nan, 'percentage_of_world': 0.0}, 'Oceania': {'min': 0.0, 'max': 65492360.0, 'mean': 12483639.778162055, 'percentage_of_world': 0.0730035424497377}}\n"
     ]
    }
   ],
   "source": [
    "def vaccination_analysis(covid_data, Europa, Oceania):\n",
    "    continents = ['Europa', 'Oceania']\n",
    "    comparison = {}\n",
    "    for continent in continents:\n",
    "        continent_data = covid_data[covid_data['continent'] == continent]\n",
    "        total_vaccinations_world = covid_data['total_vaccinations'].sum()\n",
    "        comparison[continent] = {\n",
    "            'min': continent_data['total_vaccinations'].min(),\n",
    "            'max': continent_data['total_vaccinations'].max(),\n",
    "            'mean': continent_data['total_vaccinations'].mean(),\n",
    "            'percentage_of_world': (continent_data['total_vaccinations'].sum() / total_vaccinations_world) * 100\n",
    "        }\n",
    "    return comparison\n",
    "\n",
    "vaccination_result = vaccination_analysis(covid_data, 'Europa', 'Oceania')\n",
    "\n",
    "print(vaccination_result)"
   ]
  },
  {
   "cell_type": "code",
   "execution_count": 22,
   "id": "15b82e1b-90cb-4306-a101-f6f67f395ec9",
   "metadata": {
    "tags": []
   },
   "outputs": [
    {
     "name": "stdout",
     "output_type": "stream",
     "text": [
      "{'Asia': {'min': 0.0, 'max': 3491077000.0, 'mean': 219847291.2896529, 'percentage_of_world': 11.657901502496745}, 'Oceania': {'min': 0.0, 'max': 65492360.0, 'mean': 12483639.778162055, 'percentage_of_world': 0.0730035424497377}}\n"
     ]
    }
   ],
   "source": [
    "def vaccination_analysis(covid_data, Asia, Oceania):\n",
    "    continents = ['Asia', 'Oceania']\n",
    "    comparison = {}\n",
    "    for continent in continents:\n",
    "        continent_data = covid_data[covid_data['continent'] == continent]\n",
    "        total_vaccinations_world = covid_data['total_vaccinations'].sum()\n",
    "        comparison[continent] = {\n",
    "            'min': continent_data['total_vaccinations'].min(),\n",
    "            'max': continent_data['total_vaccinations'].max(),\n",
    "            'mean': continent_data['total_vaccinations'].mean(),\n",
    "            'percentage_of_world': (continent_data['total_vaccinations'].sum() / total_vaccinations_world) * 100\n",
    "        }\n",
    "    return comparison\n",
    "\n",
    "vaccination_result = vaccination_analysis(covid_data, 'Asia', 'Oceania')\n",
    "\n",
    "print(vaccination_result)"
   ]
  },
  {
   "cell_type": "code",
   "execution_count": 23,
   "id": "e8918d5a-094c-44ae-9279-ced09965602e",
   "metadata": {
    "tags": []
   },
   "outputs": [
    {
     "name": "stdout",
     "output_type": "stream",
     "text": [
      "\n",
      "Dopo l'estrazione dei dati parti delle funzioni definite: possiamo notare che in Europa i casi erano\n",
      "maggiori confronto a quelli in Oceania anche se dimostrano un minimo uguale di casi, mentre abbiano una percentuale \n",
      "definita di numeri di personne vaccinati anche se rappresentano sensibilemente 0,074% sulla percentuale mondiale, \n",
      "in europa non si hanno dati rappresentativi delle vaccinazioni in base a questo dataframe\n",
      "\n"
     ]
    }
   ],
   "source": [
    "riassunto = \"\"\"\n",
    "Dopo l'estrazione dei dati parti delle funzioni definite: possiamo notare che in Europa i casi erano\n",
    "maggiori confronto a quelli in Oceania anche se dimostrano un minimo uguale di casi, mentre abbiano una percentuale \n",
    "definita di numeri di personne vaccinati anche se rappresentano sensibilemente 0,074% sulla percentuale mondiale, \n",
    "in europa non si hanno dati rappresentativi delle vaccinazioni in base a questo dataframe\n",
    "\"\"\"\n",
    "print(riassunto)"
   ]
  },
  {
   "cell_type": "code",
   "execution_count": null,
   "id": "1d4d3764-2f01-4551-bd9d-3908aa3f01ce",
   "metadata": {},
   "outputs": [],
   "source": []
  }
 ],
 "metadata": {
  "kernelspec": {
   "display_name": "Python 3 (ipykernel)",
   "language": "python",
   "name": "python3"
  },
  "language_info": {
   "codemirror_mode": {
    "name": "ipython",
    "version": 3
   },
   "file_extension": ".py",
   "mimetype": "text/x-python",
   "name": "python",
   "nbconvert_exporter": "python",
   "pygments_lexer": "ipython3",
   "version": "3.11.5"
  }
 },
 "nbformat": 4,
 "nbformat_minor": 5
}
